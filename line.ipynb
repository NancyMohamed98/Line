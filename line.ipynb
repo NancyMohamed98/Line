{
 "cells": [
  {
   "cell_type": "code",
   "execution_count": 2,
   "metadata": {},
   "outputs": [],
   "source": [
    "class lines(object) :\n",
    "    def __init__(self,point1,point2):\n",
    "        self.point1=point1\n",
    "        self.point2=point2\n",
    "    def distance(self):\n",
    "        x1,x2 =self.point1\n",
    "        y1,y2 = self.point2\n",
    "        dist = ((x2-x1)+(y2-y1))**2\n",
    "        return dist \n",
    "    def slope(self):\n",
    "        x1,x2 =self.point1\n",
    "        y1,y2 = self.point2\n",
    "        slp = (x2-x1)/(y2-y1)\n",
    "        return slp"
   ]
  },
  {
   "cell_type": "code",
   "execution_count": 3,
   "metadata": {},
   "outputs": [],
   "source": [
    "    def distance(self):\n",
    "        x1,x2 =self.point1\n",
    "        y1,y2 = self.point2\n",
    "        dist = ((x2-x1)+(y2-y1))**2\n",
    "        return dist \n",
    "    def slope(self):\n",
    "        x1,x2 =self.point1\n",
    "        y1,y2 = self.point2\n",
    "        slp = (x2-x1)/(y2-y1)"
   ]
  },
  {
   "cell_type": "code",
   "execution_count": 4,
   "metadata": {},
   "outputs": [],
   "source": [
    "class cylinder(object):\n",
    "    def __init__(self,redius,height):\n",
    "        self.redius = redius\n",
    "        self.height = height\n",
    "    def area(self):\n",
    "        r = self.redius\n",
    "        h = self.height\n",
    "        a = 2*(3.14)*(r**2)+2*(3.14)*r*h\n",
    "        return a\n",
    "    def volume(self):\n",
    "        r = self.redius\n",
    "        h = self.height\n",
    "        vol = (3.14)*(r**2)*h\n",
    "        return vol"
   ]
  },
  {
   "cell_type": "code",
   "execution_count": null,
   "metadata": {},
   "outputs": [],
   "source": []
  }
 ],
 "metadata": {
  "kernelspec": {
   "display_name": "Python 3",
   "language": "python",
   "name": "python3"
  },
  "language_info": {
   "codemirror_mode": {
    "name": "ipython",
    "version": 3
   },
   "file_extension": ".py",
   "mimetype": "text/x-python",
   "name": "python",
   "nbconvert_exporter": "python",
   "pygments_lexer": "ipython3",
   "version": "3.7.6"
  }
 },
 "nbformat": 4,
 "nbformat_minor": 4
}
